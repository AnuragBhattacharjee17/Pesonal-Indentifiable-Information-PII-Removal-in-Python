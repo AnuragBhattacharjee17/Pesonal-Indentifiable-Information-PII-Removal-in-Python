{
  "nbformat": 4,
  "nbformat_minor": 0,
  "metadata": {
    "colab": {
      "name": "Personal Identifiable Information (PII) Removal.ipynb",
      "provenance": [],
      "collapsed_sections": [],
      "authorship_tag": "ABX9TyNQGmyDCStgvWYO2GTI69Mx",
      "include_colab_link": true
    },
    "kernelspec": {
      "name": "python3",
      "display_name": "Python 3"
    }
  },
  "cells": [
    {
      "cell_type": "markdown",
      "metadata": {
        "id": "view-in-github",
        "colab_type": "text"
      },
      "source": [
        "<a href=\"https://colab.research.google.com/github/AnuragBhattacharjee17/Pesonal-Indentifiable-Information-PII-Removal-in-Python/blob/master/Personal_Identifiable_Information_(PII)_Removal.ipynb\" target=\"_parent\"><img src=\"https://colab.research.google.com/assets/colab-badge.svg\" alt=\"Open In Colab\"/></a>"
      ]
    },
    {
      "cell_type": "code",
      "metadata": {
        "id": "FxcOCmXQgdfN",
        "colab_type": "code",
        "outputId": "3c4e86f0-7d67-421c-a647-d5c3124ebe85",
        "colab": {
          "base_uri": "https://localhost:8080/",
          "height": 190
        }
      },
      "source": [
        "pip install scrubadub"
      ],
      "execution_count": 4,
      "outputs": [
        {
          "output_type": "stream",
          "text": [
            "Requirement already satisfied: scrubadub in /usr/local/lib/python3.6/dist-packages (1.2.1)\n",
            "Requirement already satisfied: argcomplete in /usr/local/lib/python3.6/dist-packages (from scrubadub) (1.11.1)\n",
            "Requirement already satisfied: phonenumbers in /usr/local/lib/python3.6/dist-packages (from scrubadub) (8.11.2)\n",
            "Requirement already satisfied: textblob==0.15.3 in /usr/local/lib/python3.6/dist-packages (from scrubadub) (0.15.3)\n",
            "Requirement already satisfied: importlib-metadata<2,>=0.23; python_version == \"3.6\" in /usr/local/lib/python3.6/dist-packages (from argcomplete->scrubadub) (1.4.0)\n",
            "Requirement already satisfied: nltk>=3.1 in /usr/local/lib/python3.6/dist-packages (from textblob==0.15.3->scrubadub) (3.2.5)\n",
            "Requirement already satisfied: zipp>=0.5 in /usr/local/lib/python3.6/dist-packages (from importlib-metadata<2,>=0.23; python_version == \"3.6\"->argcomplete->scrubadub) (1.0.0)\n",
            "Requirement already satisfied: six in /usr/local/lib/python3.6/dist-packages (from nltk>=3.1->textblob==0.15.3->scrubadub) (1.12.0)\n",
            "Requirement already satisfied: more-itertools in /usr/local/lib/python3.6/dist-packages (from zipp>=0.5->importlib-metadata<2,>=0.23; python_version == \"3.6\"->argcomplete->scrubadub) (8.0.2)\n"
          ],
          "name": "stdout"
        }
      ]
    },
    {
      "cell_type": "code",
      "metadata": {
        "id": "zwtgAGWIiV_K",
        "colab_type": "code",
        "outputId": "6077bf76-3957-45fc-ee14-e6d82d06ffd6",
        "colab": {
          "base_uri": "https://localhost:8080/",
          "height": 68
        }
      },
      "source": [
        "import scrubadub\n",
        "import nltk\n",
        "nltk.download(\"punkt\")\n",
        "sent = \"Anurag works in Infosys\"\n",
        "scrubadub.clean(sent,replace_with=\"identifier\")"
      ],
      "execution_count": 58,
      "outputs": [
        {
          "output_type": "stream",
          "text": [
            "[nltk_data] Downloading package punkt to /root/nltk_data...\n",
            "[nltk_data]   Package punkt is already up-to-date!\n"
          ],
          "name": "stdout"
        },
        {
          "output_type": "execute_result",
          "data": {
            "text/plain": [
              "'{{NAME-0}} works in {{NAME-1}}'"
            ]
          },
          "metadata": {
            "tags": []
          },
          "execution_count": 58
        }
      ]
    },
    {
      "cell_type": "markdown",
      "metadata": {
        "id": "_hMq-1l0BKG0",
        "colab_type": "text"
      },
      "source": [
        "PII Removal from DataFrame"
      ]
    },
    {
      "cell_type": "code",
      "metadata": {
        "id": "V0nb_sqE_x5W",
        "colab_type": "code",
        "colab": {}
      },
      "source": [
        "text1= \"Anurag works in Infosys.\"\n",
        "text2= \"You can contact him in +91-7717733570.\"\n",
        "text3= \"His email id is anurag.b@infosys.com.\"\n",
        "text4= \"His address is Electronic City,Bangalore.\""
      ],
      "execution_count": 0,
      "outputs": []
    },
    {
      "cell_type": "code",
      "metadata": {
        "id": "7jPY0BC6AveP",
        "colab_type": "code",
        "colab": {
          "base_uri": "https://localhost:8080/",
          "height": 173
        },
        "outputId": "f418111a-29d2-4f90-a3f8-cb94b21f6de8"
      },
      "source": [
        "import pandas as pd\n",
        "df=pd.DataFrame([text1,text2,text3,text4],columns=[\"Text\"])\n",
        "df"
      ],
      "execution_count": 60,
      "outputs": [
        {
          "output_type": "execute_result",
          "data": {
            "text/html": [
              "<div>\n",
              "<style scoped>\n",
              "    .dataframe tbody tr th:only-of-type {\n",
              "        vertical-align: middle;\n",
              "    }\n",
              "\n",
              "    .dataframe tbody tr th {\n",
              "        vertical-align: top;\n",
              "    }\n",
              "\n",
              "    .dataframe thead th {\n",
              "        text-align: right;\n",
              "    }\n",
              "</style>\n",
              "<table border=\"1\" class=\"dataframe\">\n",
              "  <thead>\n",
              "    <tr style=\"text-align: right;\">\n",
              "      <th></th>\n",
              "      <th>Text</th>\n",
              "    </tr>\n",
              "  </thead>\n",
              "  <tbody>\n",
              "    <tr>\n",
              "      <th>0</th>\n",
              "      <td>Anurag works in Infosys.</td>\n",
              "    </tr>\n",
              "    <tr>\n",
              "      <th>1</th>\n",
              "      <td>You can contact him in +91-7717733570.</td>\n",
              "    </tr>\n",
              "    <tr>\n",
              "      <th>2</th>\n",
              "      <td>His email id is anurag.b@infosys.com.</td>\n",
              "    </tr>\n",
              "    <tr>\n",
              "      <th>3</th>\n",
              "      <td>His address is Electronic City,Bangalore.</td>\n",
              "    </tr>\n",
              "  </tbody>\n",
              "</table>\n",
              "</div>"
            ],
            "text/plain": [
              "                                        Text\n",
              "0                   Anurag works in Infosys.\n",
              "1     You can contact him in +91-7717733570.\n",
              "2      His email id is anurag.b@infosys.com.\n",
              "3  His address is Electronic City,Bangalore."
            ]
          },
          "metadata": {
            "tags": []
          },
          "execution_count": 60
        }
      ]
    },
    {
      "cell_type": "code",
      "metadata": {
        "id": "3FM84N6rBH4U",
        "colab_type": "code",
        "colab": {
          "base_uri": "https://localhost:8080/",
          "height": 173
        },
        "outputId": "69dd48c9-db26-4ee5-cbbe-b716aeae8cad"
      },
      "source": [
        "scrub = lambda x: scrubadub.clean(x)\n",
        "df[\"Text\"]=df[\"Text\"].apply(scrub)\n",
        "df"
      ],
      "execution_count": 61,
      "outputs": [
        {
          "output_type": "execute_result",
          "data": {
            "text/html": [
              "<div>\n",
              "<style scoped>\n",
              "    .dataframe tbody tr th:only-of-type {\n",
              "        vertical-align: middle;\n",
              "    }\n",
              "\n",
              "    .dataframe tbody tr th {\n",
              "        vertical-align: top;\n",
              "    }\n",
              "\n",
              "    .dataframe thead th {\n",
              "        text-align: right;\n",
              "    }\n",
              "</style>\n",
              "<table border=\"1\" class=\"dataframe\">\n",
              "  <thead>\n",
              "    <tr style=\"text-align: right;\">\n",
              "      <th></th>\n",
              "      <th>Text</th>\n",
              "    </tr>\n",
              "  </thead>\n",
              "  <tbody>\n",
              "    <tr>\n",
              "      <th>0</th>\n",
              "      <td>{{NAME}} works in {{NAME}}.</td>\n",
              "    </tr>\n",
              "    <tr>\n",
              "      <th>1</th>\n",
              "      <td>You can contact him in {{PHONE}}.</td>\n",
              "    </tr>\n",
              "    <tr>\n",
              "      <th>2</th>\n",
              "      <td>His email id is {{EMAIL}}.</td>\n",
              "    </tr>\n",
              "    <tr>\n",
              "      <th>3</th>\n",
              "      <td>His address is {{NAME}} {{NAME}}.</td>\n",
              "    </tr>\n",
              "  </tbody>\n",
              "</table>\n",
              "</div>"
            ],
            "text/plain": [
              "                                Text\n",
              "0        {{NAME}} works in {{NAME}}.\n",
              "1  You can contact him in {{PHONE}}.\n",
              "2         His email id is {{EMAIL}}.\n",
              "3  His address is {{NAME}} {{NAME}}."
            ]
          },
          "metadata": {
            "tags": []
          },
          "execution_count": 61
        }
      ]
    },
    {
      "cell_type": "markdown",
      "metadata": {
        "id": "J3SeNiNoDGWL",
        "colab_type": "text"
      },
      "source": [
        "Suppose we want to remove Phone Number and Email from sensitive information"
      ]
    },
    {
      "cell_type": "code",
      "metadata": {
        "id": "8nedCGcQDPZg",
        "colab_type": "code",
        "colab": {}
      },
      "source": [
        "scrubber = scrubadub.Scrubber()\n",
        "scrubber.remove_detector('email')\n",
        "scrubber.remove_detector('phone')"
      ],
      "execution_count": 0,
      "outputs": []
    },
    {
      "cell_type": "code",
      "metadata": {
        "id": "DYy_ZpP2GgX_",
        "colab_type": "code",
        "colab": {
          "base_uri": "https://localhost:8080/",
          "height": 34
        },
        "outputId": "63b43168-1259-4648-8a12-8a6d966e6a0e"
      },
      "source": [
        "scrubber.clean(text2)"
      ],
      "execution_count": 72,
      "outputs": [
        {
          "output_type": "execute_result",
          "data": {
            "text/plain": [
              "'You can contact him in +91-7717733570.'"
            ]
          },
          "metadata": {
            "tags": []
          },
          "execution_count": 72
        }
      ]
    },
    {
      "cell_type": "code",
      "metadata": {
        "id": "-BlC-ygBGkW1",
        "colab_type": "code",
        "colab": {
          "base_uri": "https://localhost:8080/",
          "height": 34
        },
        "outputId": "f5fa43b9-8039-4679-eddb-ded51712cce1"
      },
      "source": [
        "scrubber.clean(text3)"
      ],
      "execution_count": 73,
      "outputs": [
        {
          "output_type": "execute_result",
          "data": {
            "text/plain": [
              "'His email id is anurag.b@infosys.com.'"
            ]
          },
          "metadata": {
            "tags": []
          },
          "execution_count": 73
        }
      ]
    }
  ]
}